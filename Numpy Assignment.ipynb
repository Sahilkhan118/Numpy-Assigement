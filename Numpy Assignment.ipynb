{
 "cells": [
  {
   "cell_type": "code",
   "execution_count": 1,
   "id": "ed4fbe43",
   "metadata": {},
   "outputs": [],
   "source": [
    "import numpy as n"
   ]
  },
  {
   "cell_type": "code",
   "execution_count": 3,
   "id": "f20abfd0",
   "metadata": {},
   "outputs": [
    {
     "data": {
      "text/plain": [
       "array([  1,   3,  23,  53,  21,  52,  66, 743,  77,  73])"
      ]
     },
     "execution_count": 3,
     "metadata": {},
     "output_type": "execute_result"
    }
   ],
   "source": [
    "# Q 1 : Write a NumPy program to convert a list of numeric values into a\n",
    "# one-dimensional NumPy array.\n",
    "\n",
    "a = [1, 3, 23, 53, 21, 52, 66, 743, 77, 73]\n",
    "arr = n.array(a)\n",
    "arr"
   ]
  },
  {
   "cell_type": "code",
   "execution_count": 10,
   "id": "8004127a",
   "metadata": {},
   "outputs": [
    {
     "data": {
      "text/plain": [
       "array([[ 7.        ,  7.53333333,  8.06666667,  8.6       ],\n",
       "       [ 9.13333333,  9.66666667, 10.2       , 10.73333333],\n",
       "       [11.26666667, 11.8       , 12.33333333, 12.86666667],\n",
       "       [13.4       , 13.93333333, 14.46666667, 15.        ]])"
      ]
     },
     "execution_count": 10,
     "metadata": {},
     "output_type": "execute_result"
    }
   ],
   "source": [
    "# Q 2 : Write a NumPy program to create a 4x4 matrix with values ranging from 7 to 15\n",
    "b = n.linspace(7, 15, 16)\n",
    "b.reshape(4, 4)"
   ]
  },
  {
   "cell_type": "code",
   "execution_count": 14,
   "id": "f042af58",
   "metadata": {},
   "outputs": [
    {
     "data": {
      "text/plain": [
       "array([[1., 1., 1., 1., 1., 1.],\n",
       "       [1., 1., 1., 1., 1., 1.],\n",
       "       [1., 1., 1., 1., 1., 1.],\n",
       "       [1., 1., 1., 1., 1., 1.],\n",
       "       [1., 1., 1., 1., 1., 1.],\n",
       "       [1., 1., 1., 1., 1., 1.]])"
      ]
     },
     "execution_count": 14,
     "metadata": {},
     "output_type": "execute_result"
    }
   ],
   "source": [
    "# Q 5 : Write a NumPy program to create a 2d array with 1 on the border and 0 inside\n",
    "\n",
    "array1 = n.ones((6, 6))\n",
    "array1"
   ]
  },
  {
   "cell_type": "code",
   "execution_count": 15,
   "id": "990095cb",
   "metadata": {},
   "outputs": [],
   "source": [
    "array1[1:-1,1:-1] = 0"
   ]
  },
  {
   "cell_type": "code",
   "execution_count": 16,
   "id": "48fedcfd",
   "metadata": {},
   "outputs": [
    {
     "data": {
      "text/plain": [
       "array([[1., 1., 1., 1., 1., 1.],\n",
       "       [1., 0., 0., 0., 0., 1.],\n",
       "       [1., 0., 0., 0., 0., 1.],\n",
       "       [1., 0., 0., 0., 0., 1.],\n",
       "       [1., 0., 0., 0., 0., 1.],\n",
       "       [1., 1., 1., 1., 1., 1.]])"
      ]
     },
     "execution_count": 16,
     "metadata": {},
     "output_type": "execute_result"
    }
   ],
   "source": [
    "array1"
   ]
  },
  {
   "cell_type": "code",
   "execution_count": 21,
   "id": "822cdeed",
   "metadata": {},
   "outputs": [
    {
     "data": {
      "text/plain": [
       "array([[2., 2., 2., 2., 2.],\n",
       "       [2., 2., 2., 2., 2.],\n",
       "       [2., 2., 2., 2., 2.]])"
      ]
     },
     "execution_count": 21,
     "metadata": {},
     "output_type": "execute_result"
    }
   ],
   "source": [
    "# Q 14 : Write a NumPy program to create a new array of 3*5, filled with 2\n",
    "ab = n.ones((3, 5))\n",
    "ab[:, :] = 2\n",
    "ab"
   ]
  },
  {
   "cell_type": "code",
   "execution_count": 27,
   "id": "80291c28",
   "metadata": {},
   "outputs": [],
   "source": [
    "# Q 15 : Write a NumPy program to create a 3-D array with ones on a diagonal\n",
    "# and zeros elsewhere\n",
    "\n",
    "arr2 = n.zeros((3, 3, 3))"
   ]
  },
  {
   "cell_type": "code",
   "execution_count": 28,
   "id": "cbabc237",
   "metadata": {},
   "outputs": [
    {
     "data": {
      "text/plain": [
       "array([[[0., 0., 0.],\n",
       "        [0., 0., 0.],\n",
       "        [0., 0., 0.]],\n",
       "\n",
       "       [[0., 0., 0.],\n",
       "        [0., 0., 0.],\n",
       "        [0., 0., 0.]],\n",
       "\n",
       "       [[0., 0., 0.],\n",
       "        [0., 0., 0.],\n",
       "        [0., 0., 0.]]])"
      ]
     },
     "execution_count": 28,
     "metadata": {},
     "output_type": "execute_result"
    }
   ],
   "source": [
    "arr2"
   ]
  },
  {
   "cell_type": "code",
   "execution_count": null,
   "id": "6181e04d",
   "metadata": {},
   "outputs": [],
   "source": []
  }
 ],
 "metadata": {
  "kernelspec": {
   "display_name": "Python 3 (ipykernel)",
   "language": "python",
   "name": "python3"
  },
  "language_info": {
   "codemirror_mode": {
    "name": "ipython",
    "version": 3
   },
   "file_extension": ".py",
   "mimetype": "text/x-python",
   "name": "python",
   "nbconvert_exporter": "python",
   "pygments_lexer": "ipython3",
   "version": "3.10.9"
  }
 },
 "nbformat": 4,
 "nbformat_minor": 5
}
